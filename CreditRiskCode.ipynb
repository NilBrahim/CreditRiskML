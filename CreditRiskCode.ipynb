{
  "cells": [
    {
      "cell_type": "markdown",
      "id": "70a86974",
      "metadata": {
        "id": "70a86974"
      },
      "source": [
        "# Bank Credit Risk Project\n",
        "\n",
        "This project focuses on **credit risk assessment** using machine learning techniques to predict the probability of loan default among bank customers.\n",
        "\n",
        "## Sections:\n",
        "1. Setup & data loading\n",
        "2. Preprocessing & encoding\n",
        "3. Exploratory analysis\n",
        "4. Modeling\n",
        "5. Evaluation\n"
      ]
    },
    {
      "cell_type": "code",
      "execution_count": null,
      "id": "a9ab7b27",
      "metadata": {
        "id": "a9ab7b27"
      },
      "outputs": [],
      "source": [
        "# === 1) Setup & data loading ===\n",
        "import pandas as pd\n",
        "import numpy as np\n",
        "from sklearn.utils import shuffle\n",
        "import matplotlib.pyplot as plt\n",
        "\n",
        "# Load dataset (update path if needed)\n",
        "data = pd.read_csv(\"bankconverted.csv\")\n",
        "\n",
        "print(\"Shape:\", data.shape)\n",
        "data.head()"
      ]
    },
    {
      "cell_type": "code",
      "execution_count": null,
      "id": "dca080ac",
      "metadata": {
        "id": "dca080ac"
      },
      "outputs": [],
      "source": [
        "# === 2) Preprocessing & encoding ===\n",
        "def encode_column(df, column, mapping):\n",
        "    \"\"\"Replace categorical values in a column using a mapping dictionary.\"\"\"\n",
        "    df[column] = df[column].replace(mapping)\n",
        "    return df\n",
        "\n",
        "# Define mappings (taken directly from original notebook replacements)\n",
        "mappings = {\n",
        "    \"moavaghe\": {1: 0, 2: 1},\n",
        "    \"sex\": {1: 0, 2: 1},\n",
        "    \"job\": {1: 0, 2: 1},\n",
        "    \"marriage status\": {1: 0, 2: 1},\n",
        "    \"housing\": {1: 0, 2: 1},\n",
        "    \"city\": {1: 0, 2: 1},\n",
        "    \"noe vam\": {1: 0, 2: 1, 3: 2, 4: 3, 5: 4, 6: 5},\n",
        "    \"tedade ghest\": {1: 0, 2: 1, 3: 2, 4: 3}\n",
        "}\n",
        "\n",
        "# Apply mappings\n",
        "for col, mapping in mappings.items():\n",
        "    if col in data.columns:\n",
        "        data = encode_column(data, col, mapping)\n",
        "\n",
        "print(\"Encoded dataset sample:\")\n",
        "data.head()"
      ]
    },
    {
      "cell_type": "code",
      "execution_count": null,
      "id": "d6c2a606",
      "metadata": {
        "id": "d6c2a606"
      },
      "outputs": [],
      "source": [
        "# === 3) Exploratory analysis ===\n",
        "print(\"Missing values per column:\")\n",
        "print(data.isnull().sum())\n",
        "\n",
        "print(\"\\nSummary statistics:\")\n",
        "display(data.describe(include='all').transpose())\n",
        "\n",
        "# Example plots (univariate distributions)\n",
        "data.hist(figsize=(12, 8))\n",
        "plt.tight_layout()\n",
        "plt.show()"
      ]
    },
    {
      "cell_type": "code",
      "execution_count": null,
      "id": "2400b85a",
      "metadata": {
        "id": "2400b85a"
      },
      "outputs": [],
      "source": [
        "# === 4) Modeling ===\n",
        "from sklearn.model_selection import train_test_split\n",
        "from sklearn.linear_model import LogisticRegression\n",
        "from sklearn.metrics import accuracy_score, precision_score, recall_score, f1_score, confusion_matrix, classification_report\n",
        "\n",
        "\n",
        "TARGET = \"delay\"\n",
        "\n",
        "if TARGET not in data.columns:\n",
        "    raise ValueError(f\"Target column '{TARGET}' not found in dataset. Please update.\")\n",
        "\n",
        "X = data.drop(columns=[TARGET])\n",
        "y = data[TARGET]\n",
        "\n",
        "# Train/test split\n",
        "X_train, X_test, y_train, y_test = train_test_split(X, y, test_size=0.2, random_state=42, stratify=y)\n",
        "\n",
        "# Train logistic regression (based on original simple modeling idea)\n",
        "model = LogisticRegression(max_iter=1000)\n",
        "model.fit(X_train, y_train)\n",
        "\n",
        "y_pred = model.predict(X_test)"
      ]
    },
    {
      "cell_type": "code",
      "execution_count": null,
      "id": "97d60e26",
      "metadata": {
        "id": "97d60e26"
      },
      "outputs": [],
      "source": [
        "# === 5) Evaluation ===\n",
        "print(\"Accuracy:\", accuracy_score(y_test, y_pred))\n",
        "print(\"Precision:\", precision_score(y_test, y_pred, zero_division=0))\n",
        "print(\"Recall:\", recall_score(y_test, y_pred, zero_division=0))\n",
        "print(\"F1 Score:\", f1_score(y_test, y_pred, zero_division=0))\n",
        "\n",
        "print(\"\\nConfusion Matrix:\\n\", confusion_matrix(y_test, y_pred))\n",
        "print(\"\\nClassification Report:\\n\", classification_report(y_test, y_pred, zero_division=0))"
      ]
    }
  ],
  "metadata": {
    "colab": {
      "provenance": []
    }
  },
  "nbformat": 4,
  "nbformat_minor": 5
}